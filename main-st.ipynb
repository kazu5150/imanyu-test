{
 "cells": [
  {
   "cell_type": "code",
   "execution_count": 1,
   "id": "3dfc5e51-4627-4c76-8fbf-84acae0721b1",
   "metadata": {},
   "outputs": [],
   "source": [
    "import streamlit as st\n",
    "import numpy as np\n",
    "import pandas as pd\n",
    "import matplotlib.pyplot as plt\n",
    "%matplotlib inline"
   ]
  },
  {
   "cell_type": "code",
   "execution_count": 2,
   "id": "3bdc2d59-c223-43df-b0c6-ad3d9ae53dc2",
   "metadata": {},
   "outputs": [],
   "source": [
    "# st.title(\"streamlit超入門\")"
   ]
  },
  {
   "cell_type": "code",
   "execution_count": 3,
   "id": "658a0a2b-56fa-4572-83e7-caa7b7b90da6",
   "metadata": {},
   "outputs": [],
   "source": [
    "tokyo_latlon = [35.69,135.70]"
   ]
  },
  {
   "cell_type": "code",
   "execution_count": 4,
   "id": "828d2e65-f8c4-4b70-a745-31defaf58bca",
   "metadata": {},
   "outputs": [],
   "source": [
    "df = pd.DataFrame(\n",
    "    np.random.randn(100,2)/[100,100] + tokyo_latlon,\n",
    "    columns=[\"lat\",\"lom\"]\n",
    ")"
   ]
  },
  {
   "cell_type": "code",
   "execution_count": 5,
   "id": "f2b21fc8-71af-41b2-902c-a4a89c1cc980",
   "metadata": {},
   "outputs": [
    {
     "data": {
      "text/plain": [
       "(100, 2)"
      ]
     },
     "execution_count": 5,
     "metadata": {},
     "output_type": "execute_result"
    }
   ],
   "source": [
    "df.shape"
   ]
  },
  {
   "cell_type": "code",
   "execution_count": 6,
   "id": "689414e7-34eb-4f3f-b24c-bada8d1b2ab7",
   "metadata": {},
   "outputs": [
    {
     "data": {
      "text/html": [
       "<div>\n",
       "<style scoped>\n",
       "    .dataframe tbody tr th:only-of-type {\n",
       "        vertical-align: middle;\n",
       "    }\n",
       "\n",
       "    .dataframe tbody tr th {\n",
       "        vertical-align: top;\n",
       "    }\n",
       "\n",
       "    .dataframe thead th {\n",
       "        text-align: right;\n",
       "    }\n",
       "</style>\n",
       "<table border=\"1\" class=\"dataframe\">\n",
       "  <thead>\n",
       "    <tr style=\"text-align: right;\">\n",
       "      <th></th>\n",
       "      <th>lat</th>\n",
       "      <th>lom</th>\n",
       "    </tr>\n",
       "  </thead>\n",
       "  <tbody>\n",
       "    <tr>\n",
       "      <th>0</th>\n",
       "      <td>35.678677</td>\n",
       "      <td>135.712387</td>\n",
       "    </tr>\n",
       "    <tr>\n",
       "      <th>1</th>\n",
       "      <td>35.680852</td>\n",
       "      <td>135.703438</td>\n",
       "    </tr>\n",
       "    <tr>\n",
       "      <th>2</th>\n",
       "      <td>35.684310</td>\n",
       "      <td>135.706759</td>\n",
       "    </tr>\n",
       "    <tr>\n",
       "      <th>3</th>\n",
       "      <td>35.694090</td>\n",
       "      <td>135.706316</td>\n",
       "    </tr>\n",
       "    <tr>\n",
       "      <th>4</th>\n",
       "      <td>35.673464</td>\n",
       "      <td>135.692839</td>\n",
       "    </tr>\n",
       "    <tr>\n",
       "      <th>...</th>\n",
       "      <td>...</td>\n",
       "      <td>...</td>\n",
       "    </tr>\n",
       "    <tr>\n",
       "      <th>95</th>\n",
       "      <td>35.687293</td>\n",
       "      <td>135.679514</td>\n",
       "    </tr>\n",
       "    <tr>\n",
       "      <th>96</th>\n",
       "      <td>35.683597</td>\n",
       "      <td>135.696021</td>\n",
       "    </tr>\n",
       "    <tr>\n",
       "      <th>97</th>\n",
       "      <td>35.682891</td>\n",
       "      <td>135.681043</td>\n",
       "    </tr>\n",
       "    <tr>\n",
       "      <th>98</th>\n",
       "      <td>35.689112</td>\n",
       "      <td>135.706236</td>\n",
       "    </tr>\n",
       "    <tr>\n",
       "      <th>99</th>\n",
       "      <td>35.706989</td>\n",
       "      <td>135.693571</td>\n",
       "    </tr>\n",
       "  </tbody>\n",
       "</table>\n",
       "<p>100 rows × 2 columns</p>\n",
       "</div>"
      ],
      "text/plain": [
       "          lat         lom\n",
       "0   35.678677  135.712387\n",
       "1   35.680852  135.703438\n",
       "2   35.684310  135.706759\n",
       "3   35.694090  135.706316\n",
       "4   35.673464  135.692839\n",
       "..        ...         ...\n",
       "95  35.687293  135.679514\n",
       "96  35.683597  135.696021\n",
       "97  35.682891  135.681043\n",
       "98  35.689112  135.706236\n",
       "99  35.706989  135.693571\n",
       "\n",
       "[100 rows x 2 columns]"
      ]
     },
     "execution_count": 6,
     "metadata": {},
     "output_type": "execute_result"
    }
   ],
   "source": [
    "df"
   ]
  },
  {
   "cell_type": "code",
   "execution_count": null,
   "id": "db54abd2-b32c-41ab-bd97-d9c68ae16d58",
   "metadata": {},
   "outputs": [],
   "source": []
  }
 ],
 "metadata": {
  "kernelspec": {
   "display_name": "Python 3",
   "language": "python",
   "name": "python3"
  },
  "language_info": {
   "codemirror_mode": {
    "name": "ipython",
    "version": 3
   },
   "file_extension": ".py",
   "mimetype": "text/x-python",
   "name": "python",
   "nbconvert_exporter": "python",
   "pygments_lexer": "ipython3",
   "version": "3.8.8"
  }
 },
 "nbformat": 4,
 "nbformat_minor": 5
}
